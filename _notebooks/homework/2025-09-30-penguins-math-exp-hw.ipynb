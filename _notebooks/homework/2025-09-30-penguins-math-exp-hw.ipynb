{
 "cells": [
  {
   "cell_type": "markdown",
   "id": "96d9c6da",
   "metadata": {},
   "source": [
    "---\n",
    "layout: base\n",
    "data: js-lessons\n",
    "title: Mathematical Expressions Homework\n",
    "permalink: /penguins/js-lessons/homework/math-expressions\n",
    "---"
   ]
  },
  {
   "cell_type": "markdown",
   "id": "9dd3192a",
   "metadata": {
    "vscode": {
     "languageId": "plaintext"
    }
   },
   "source": [
    "# Penguins JS Lessons\n",
    "\n",
    "<a href=\"https://github.com/Comp-Sci-Team/js-lesson_pages/blob/main/_notebooks/CSSE/JavaScriptLessons/Mathematic_Expressions/2025-09-30-penguins-math-exp-hw.ipynb\" download><b>Download Homework</b></a> <br/>\n",
    "<a href=\"https://docs.google.com/forms/d/e/1FAIpQLSfwgZR0QYAg_uYuZ7XqqEm-xlU0-gZFE2dtgnKEe5kH7Yp0Vg/viewform?usp=dialog\"><b>Submission Google Form for Homework</b></a>\n",
    "\n",
    "## **Mathematical Expressions Homework**\n",
    "In order to learn this subject of programming well, you have to practice:\n",
    "\n",
    "> Popcorn hack 1: operations with variables\n",
    "\n",
    "> Popcorn hack 2: Make 2 variables `x`, and `y`. Compute 3 different operations and log it into the console with console.log();\n",
    "\n",
    "> Final Task: Build a system of functions that represent different mathematical expressions. Each of these functions will perform a different mathematical operation(ex: add, subtract). Make at least 5 of these different functions. \n",
    "\n",
    "---"
   ]
  },
  {
   "cell_type": "markdown",
   "id": "15bf7fb3",
   "metadata": {},
   "source": [
    "## <b>Popcorn Hack 1 (Progress Check)</b>\n",
    "\n",
    "<b>Part 1:</b><br/>\n",
    "In the javascript node below, make 2 variables, `num1` set to 6 and `num2` set to 3, then write the equation `(num1 * num2) + (num1 / 2)`.\n",
    "\n",
    "The output should be 21.<br/>\n",
    "<br/>\n",
    "<b>Part 2:</b><br/>\n",
    "Next, keeping the same variables, add a new variable called `total` that is equal to the equation `num1 / num2 + 2 ** 3`, and this time make the equation<br/><br/> `(total + 15) - numb1 ** 2 / 4` <br/><br/>\n",
    "\n",
    "Write this code below:"
   ]
  },
  {
   "cell_type": "code",
   "execution_count": null,
   "id": "529d98c6",
   "metadata": {
    "vscode": {
     "languageId": "javascript"
    }
   },
   "outputs": [
    {
     "data": {
      "application/javascript": "\n// Part 1\nlet num1 = 6;\nlet num2 = 3;\n\nconsole.log((num1 * num2) + (num1 / 2)); // Output: 21\n\n// Part 2\nlet total = num1 / num2 + 2 ** 3;\nconsole.log((total + 15) - num1 ** 2 / 4);\n",
      "text/plain": [
       "<IPython.core.display.Javascript object>"
      ]
     },
     "metadata": {},
     "output_type": "display_data"
    }
   ],
   "source": [
    "%% javascript\n",
    "\n",
    "// Part 1\n",
    "let num1 = 6;\n",
    "let num2 = 3;\n",
    "\n",
    "console.log((num1 * num2) + (num1 / 2)); // Output: 21\n",
    "\n",
    "// Part 2 - I flipped the operations as its still the same answer\n",
    "let total = num1 / num2 + 2 ** 3;\n",
    "console.log((total + 15) - num1 ** 2 / 4);\n"
   ]
  },
  {
   "cell_type": "markdown",
   "id": "83533354",
   "metadata": {},
   "source": [
    "---\n",
    "\n",
    "## Popcorn Hack 2 (Progress check):\n",
    "\n",
    "Create 2 variables `x` and `y`. With the output area below, provide 3 different operators used with the 2 variables<br/>(`ex: let sum = x + y;`)<br/> and fill in the output with a sentence that provides all three operators and their respective answer."
   ]
  },
  {
   "cell_type": "code",
   "execution_count": null,
   "id": "c26ad088",
   "metadata": {
    "vscode": {
     "languageId": "javascript"
    }
   },
   "outputs": [
    {
     "data": {
      "application/javascript": "\n// Create variables\nlet x = 10;\nlet y = 5;\n\n// Perform 3 different operations\nlet operation1 = x + y;   // addition\nlet operation2 = x - y;   // subtraction\nlet operation3 = x * y;   // multiplication\n\n// Output sentence with all three results\nconsole.log(`When we add x and y we get ${operation1}, subtracting gives ${operation2}, and multiplying gives ${operation3}.`);\n",
      "text/plain": [
       "<IPython.core.display.Javascript object>"
      ]
     },
     "metadata": {},
     "output_type": "display_data"
    }
   ],
   "source": [
    "%% javascript\n",
    "\n",
    "// Create variables\n",
    "let x = 10;\n",
    "let y = 5;\n",
    "\n",
    "// Perform 3 different operations\n",
    "let operation1 = x + y;   // addition\n",
    "let operation2 = x - y;   // subtraction\n",
    "let operation3 = x * y;   // multiplication\n",
    "\n",
    "// Output sentence with all three results - Copilot helped me with this line\n",
    "console.log(`When we add x and y we get ${operation1}, subtracting gives ${operation2}, and multiplying gives ${operation3}.`);\n"
   ]
  },
  {
   "cell_type": "markdown",
   "id": "221d4674",
   "metadata": {},
   "source": [
    "---\n",
    "\n",
    "## Final Task:\n",
    "\n",
    "1. Make 5 different functions, each with different operators/expressions:\n",
    "\n",
    "- Addition\n",
    "- Subtraction\n",
    "- Multiplication\n",
    "- Exponential\n",
    "- Modulus\n",
    "\n",
    "2. Be able to use the functions as well as <code>document.getElementById</code> to make the buttons output the result.\n",
    "\n",
    "3. Have fun! Mess around with different variables with different values, and maybe see if you can make any complex equations like the ones you're learning in your math class. The end objective is for you to be able to use and understand math expressions.\n",
    "\n",
    "\n",
    "### Example function:\n",
    "\n",
    "```\n",
    "function add(a, b)\n",
    "{\n",
    "\treturn a + b;\n",
    "}\n",
    "```\n",
    "\n",
    "### Some ideas you can use:\n",
    "- Multiply Function\n",
    "- Square root function\n",
    "- Cube root function\n",
    "\n",
    "---\n"
   ]
  },
  {
   "cell_type": "markdown",
   "id": "03f3fc78",
   "metadata": {
    "vscode": {
     "languageId": "html"
    }
   },
   "source": [
    "Now that you have seen the example, you will start writing your custom functions in the html code block below: <br>\n",
    "<u> Make sure to follow each comment on where to write your code, don't modify any existing code. </u>\n",
    "<br><br>"
   ]
  },
  {
   "cell_type": "code",
   "execution_count": null,
   "id": "a1af04c7",
   "metadata": {
    "vscode": {
     "languageId": "html"
    }
   },
   "outputs": [
    {
     "data": {
      "text/html": [
       "\n",
       "<h2>Function Outputs:</h2>\n",
       "\n",
       "<!-- Buttons for each operation -->\n",
       "<button type=\"button\" onclick=\"Add(4,5)\">Addition</button>\n",
       "<div id=\"functionOutput1\"></div>\n",
       "<br>\n",
       "\n",
       "<button type=\"button\" onclick=\"Subtract(10,3)\">Subtraction</button>\n",
       "<div id=\"functionOutput2\"></div>\n",
       "<br>\n",
       "\n",
       "<button type=\"button\" onclick=\"Multiply(6,7)\">Multiplication</button>\n",
       "<div id=\"functionOutput3\"></div>\n",
       "<br>\n",
       "\n",
       "<button type=\"button\" onclick=\"Exponential(3,4)\">Exponential</button>\n",
       "<div id=\"functionOutput4\"></div>\n",
       "<br>\n",
       "\n",
       "<button type=\"button\" onclick=\"Modulus(29,5)\">Modulus</button>\n",
       "<div id=\"functionOutput5\"></div>\n",
       "<br>\n",
       "\n",
       "<script>\n",
       "  // Function 1: Addition\n",
       "  function Add(a, b) {\n",
       "    let result = a + b;\n",
       "    document.getElementById(\"functionOutput1\").innerText = `Addition Result: ${result}`;\n",
       "  }\n",
       "\n",
       "  // Function 2: Subtraction\n",
       "  function Subtract(a, b) {\n",
       "    let result = a - b;\n",
       "    document.getElementById(\"functionOutput2\").innerText = `Subtraction Result: ${result}`;\n",
       "  }\n",
       "\n",
       "  // Function 3: Multiplication\n",
       "  function Multiply(a, b) {\n",
       "    let result = a * b;\n",
       "    document.getElementById(\"functionOutput3\").innerText = `Multiplication Result: ${result}`;\n",
       "  }\n",
       "\n",
       "  // Function 4: Exponential\n",
       "  function Exponential(a, b) {\n",
       "    let result = a ** b;\n",
       "    document.getElementById(\"functionOutput4\").innerText = `Exponential Result: ${result}`;\n",
       "  }\n",
       "\n",
       "  // Function 5: Modulus\n",
       "  function Modulus(a, b) {\n",
       "    let result = a % b;\n",
       "    document.getElementById(\"functionOutput5\").innerText = `Modulus Result: ${result}`;\n",
       "  }\n",
       "</script>\n"
      ],
      "text/plain": [
       "<IPython.core.display.HTML object>"
      ]
     },
     "metadata": {},
     "output_type": "display_data"
    }
   ],
   "source": [
    "%%html\n",
    "\n",
    "<h2>Function Outputs:</h2>\n",
    "\n",
    "<!-- Buttons for each operation -->\n",
    "<button type=\"button\" onclick=\"Add(4,5)\">Addition</button>\n",
    "<div id=\"functionOutput1\"></div>\n",
    "<br>\n",
    "\n",
    "<button type=\"button\" onclick=\"Subtract(10,3)\">Subtraction</button>\n",
    "<div id=\"functionOutput2\"></div>\n",
    "<br>\n",
    "\n",
    "<button type=\"button\" onclick=\"Multiply(6,7)\">Multiplication</button>\n",
    "<div id=\"functionOutput3\"></div>\n",
    "<br>\n",
    "\n",
    "<button type=\"button\" onclick=\"Exponential(3,4)\">Exponential</button>\n",
    "<div id=\"functionOutput4\"></div>\n",
    "<br>\n",
    "\n",
    "<button type=\"button\" onclick=\"Modulus(29,5)\">Modulus</button>\n",
    "<div id=\"functionOutput5\"></div>\n",
    "<br>\n",
    "\n",
    "<script>\n",
    "\t// Function 1 Addition\n",
    "\tfunction Add(a, b) {\n",
    "\t\tlet result = a + b;\n",
    "\t\tdocument.getElementById(\"functionOutput1\").innerText = `Addition Result: ${result}`;\n",
    "\t}\n",
    "\n",
    "\t// Function 2 Subtraction\n",
    "\tfunction Subtract(a, b) {\n",
    "\t\tlet result = a - b;\n",
    "\t\tdocument.getElementById(\"functionOutput2\").innerText = `Subtraction Result: ${result}`;\n",
    "\t}\n",
    "\n",
    "\t// Function 3 Multiplication\n",
    "\tfunction Multiply(a, b) {\n",
    "\t\tlet result = a * b;\n",
    "\t\tdocument.getElementById(\"functionOutput3\").innerText = `Multiplication Result: ${result}`;\n",
    "\t}\n",
    "\n",
    "\t// Function 4 Exponential\n",
    "\tfunction Exponential(a, b) {\n",
    "\t\tlet result = a ** b;\n",
    "\t\tdocument.getElementById(\"functionOutput4\").innerText = `Exponential Result: ${result}`;\n",
    "\t}\n",
    "\n",
    "\t// Function 5 Modulus\n",
    "\tfunction Modulus(a, b) {\n",
    "\t\tlet result = a % b;\n",
    "\t\tdocument.getElementById(\"functionOutput5\").innerText = `Modulus Result: ${result}`;\n",
    "\t}\n",
    "</script>"
   ]
  },
  {
   "cell_type": "markdown",
   "id": "6c6c906a",
   "metadata": {},
   "source": [
    "---\n",
    "\n",
    "<b>Grading</b>\n",
    "\n",
    "Popcorn Hack 1: Completion gives 0.2 points.<br/><br/>\n",
    "Popcorn Hack 2: Completion gives 0.3 points.<br/><br/>\n",
    "\n",
    "Final Task: Completion gives 0.5 points. Max of 0.02 extra points from extra work relevant to the subject or finishing assignment in a way that shows exceptional comprehension of the lesson.\n",
    "\n",
    "<br>\n",
    "<b><u>Make sure to submit your homework deployed link onto the global homework submission google sheet</u><b>"
   ]
  },
  {
   "cell_type": "markdown",
   "id": "9f94ed4c",
   "metadata": {
    "vscode": {
     "languageId": "html"
    }
   },
   "source": [
    "<a href=\"https://docs.google.com/forms/d/e/1FAIpQLSfwgZR0QYAg_uYuZ7XqqEm-xlU0-gZFE2dtgnKEe5kH7Yp0Vg/viewform?usp=dialog\"><b>Submission Google Form for Homework</b></a>"
   ]
  }
 ],
 "metadata": {
  "kernelspec": {
   "display_name": "venv (3.12.3)",
   "language": "python",
   "name": "python3"
  },
  "language_info": {
   "codemirror_mode": {
    "name": "ipython",
    "version": 3
   },
   "file_extension": ".py",
   "mimetype": "text/x-python",
   "name": "python",
   "nbconvert_exporter": "python",
   "pygments_lexer": "ipython3",
   "version": "3.12.3"
  }
 },
 "nbformat": 4,
 "nbformat_minor": 5
}

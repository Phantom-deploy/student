{
 "cells": [
  {
   "cell_type": "markdown",
   "id": "14cac702",
   "metadata": {},
   "source": [
    "Hi there, I am Aryan Malik and I want to share you some tips and tricks for some Basic HTML, lets start with this cool button animation, remember to run this code you need to open a new file and put the HTML structure or it wont work"
   ]
  },
  {
   "cell_type": "code",
   "execution_count": null,
   "id": "e69e5b40",
   "metadata": {},
   "outputs": [],
   "source": [
    "<!DOCTYPE html>\n",
    "<html lang=\"en\">\n",
    "<head>\n",
    "  <meta charset=\"UTF-8\">\n",
    "  <meta name=\"viewport\" content=\"width=device-width, initial-scale=1.0\">\n",
    "  <title>Simple Button Animation</title>\n",
    "  <style>\n",
    "    body {\n",
    "      display: flex;\n",
    "      justify-content: center;\n",
    "      align-items: center;\n",
    "      height: 100vh;\n",
    "      background: #1e1e2f;\n",
    "      margin: 0;\n",
    "    }\n",
    "\n",
    "    .simple-btn {\n",
    "      padding: 10px 20px;\n",
    "      border: none;\n",
    "      border-radius: 8px;\n",
    "      background: #444;\n",
    "      color: white;\n",
    "      font-size: 1rem;\n",
    "      cursor: pointer;\n",
    "      transition: all 0.3s ease;\n",
    "    }\n",
    "\n",
    "    .simple-btn:hover {\n",
    "      background: #666;\n",
    "      transform: translateY(-3px);\n",
    "      box-shadow: 0 5px 15px rgba(0,0,0,0.3);\n",
    "    }\n",
    "\n",
    "    .simple-btn:active {\n",
    "      transform: translateY(1px);\n",
    "      box-shadow: 0 2px 5px rgba(0,0,0,0.2);\n",
    "    }\n",
    "  </style>\n",
    "</head>\n",
    "<body>\n",
    "  <button class=\"simple-btn\">Click Me</button>\n",
    "</body>\n",
    "</html>\n"
   ]
  },
  {
   "cell_type": "markdown",
   "id": "753225f2",
   "metadata": {},
   "source": [
    "Yes, I didn't code that but I did make some edits to that. Next Ima show you some cool text animation"
   ]
  },
  {
   "cell_type": "code",
   "execution_count": 1,
   "id": "74ac7d41",
   "metadata": {},
   "outputs": [
    {
     "ename": "SyntaxError",
     "evalue": "invalid decimal literal (307948418.py, line 12)",
     "output_type": "error",
     "traceback": [
      "  \u001b[36mCell\u001b[39m\u001b[36m \u001b[39m\u001b[32mIn[1]\u001b[39m\u001b[32m, line 12\u001b[39m\n\u001b[31m    \u001b[39m\u001b[31mheight: 100vh;\u001b[39m\n              ^\n\u001b[31mSyntaxError\u001b[39m\u001b[31m:\u001b[39m invalid decimal literal\n"
     ]
    }
   ],
   "source": [
    "<!DOCTYPE html>\n",
    "<html lang=\"en\">\n",
    "<head>\n",
    "  <meta charset=\"UTF-8\">\n",
    "  <meta name=\"viewport\" content=\"width=device-width, initial-scale=1.0\">\n",
    "  <title>Text Animation</title>\n",
    "  <style>\n",
    "    body {\n",
    "      display: flex;\n",
    "      justify-content: center;\n",
    "      align-items: center;\n",
    "      height: 100vh;\n",
    "      background: #121212;\n",
    "      color: #fff;\n",
    "      font-family: monospace;\n",
    "      font-size: 2rem;\n",
    "    }\n",
    "\n",
    "    .typing {\n",
    "      border-right: 2px solid #fff;\n",
    "      white-space: nowrap;\n",
    "      overflow: hidden;\n",
    "      width: 0;\n",
    "      animation: typing 4s steps(20, end) forwards, blink 0.7s infinite;\n",
    "    }\n",
    "\n",
    "    @keyframes typing {\n",
    "      from { width: 0 }\n",
    "      to { width: 18ch } /* ch = number of characters */\n",
    "    }\n",
    "\n",
    "    @keyframes blink {\n",
    "      50% { border-color: transparent }\n",
    "    }\n",
    "  </style>\n",
    "</head>\n",
    "<body>\n",
    "  <div class=\"typing\">Hello, welcome to my site!</div>\n",
    "</body>\n",
    "</html>\n"
   ]
  },
  {
   "cell_type": "markdown",
   "id": "42e4fc13",
   "metadata": {},
   "source": [
    "Thx for looking at my blog and following the code. If you made it this far say \"Yay!!!\" and talk to the class about star wars for 1 min please"
   ]
  }
 ],
 "metadata": {
  "kernelspec": {
   "display_name": "venv (3.12.3)",
   "language": "python",
   "name": "python3"
  },
  "language_info": {
   "codemirror_mode": {
    "name": "ipython",
    "version": 3
   },
   "file_extension": ".py",
   "mimetype": "text/x-python",
   "name": "python",
   "nbconvert_exporter": "python",
   "pygments_lexer": "ipython3",
   "version": "3.12.3"
  }
 },
 "nbformat": 4,
 "nbformat_minor": 5
}
